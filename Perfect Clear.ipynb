{
 "cells": [
  {
   "cell_type": "code",
   "execution_count": 1,
   "metadata": {},
   "outputs": [],
   "source": [
    "import numpy as np"
   ]
  },
  {
   "cell_type": "code",
   "execution_count": 2,
   "metadata": {},
   "outputs": [],
   "source": [
    "is_right_oriented = True"
   ]
  },
  {
   "cell_type": "code",
   "execution_count": null,
   "metadata": {},
   "outputs": [],
   "source": []
  },
  {
   "cell_type": "markdown",
   "metadata": {},
   "source": [
    "# Initial Board"
   ]
  },
  {
   "cell_type": "code",
   "execution_count": 3,
   "metadata": {},
   "outputs": [],
   "source": [
    "height = 4\n",
    "width = 4"
   ]
  },
  {
   "cell_type": "code",
   "execution_count": 4,
   "metadata": {},
   "outputs": [],
   "source": [
    "board = np.zeros((height,width))\n",
    "\n",
    "board[1:,0] = 1\n",
    "board[2,1] = 1\n",
    "\n",
    "if not is_right_oriented:\n",
    "    board = np.flip(bload,1)\n"
   ]
  },
  {
   "cell_type": "code",
   "execution_count": 5,
   "metadata": {},
   "outputs": [],
   "source": [
    "def can_insert(board, piece, pos):\n",
    "    for i, horizontal in enumerate(piece):\n",
    "        for j, bloc in enumerate(horizontal):\n",
    "            bloc_pos = (pos[0] + i, pos[1] + j)\n",
    "            if board[bloc_pos] != 0:          \n",
    "                return False\n",
    "    return True\n",
    "\n",
    "def inserer_piece(board, piece, pos):\n",
    "\n",
    "    if not can_insert(board, piece, pos):\n",
    "        print(\"Insertion interdite\")\n",
    "        return -1\n",
    "\n",
    "    ret = board.copy()\n",
    "    for i, horizontal in enumerate(piece):\n",
    "        for j, bloc in enumerate(horizontal):\n",
    "            ret[pos[0] + i, pos[1] + j] = 1\n",
    "    return ret"
   ]
  },
  {
   "cell_type": "code",
   "execution_count": 88,
   "metadata": {},
   "outputs": [],
   "source": [
    "def rot90(piece, nb_rot):\n",
    "    if nb_rot == 0:\n",
    "        return piece\n",
    "    \n",
    "    ret = np.zeros((piece.shape[1], piece.shape[0]))\n",
    "    \n",
    "    for i in range(piece.shape[1]):\n",
    "        ret[i,:] = np.flip(piece[:,i])\n",
    "    \n",
    "    if nb_rot == 1:\n",
    "        return ret\n",
    "    else:\n",
    "        return rot90(ret, nb_rot-1)\n",
    "    return ret"
   ]
  },
  {
   "cell_type": "code",
   "execution_count": 98,
   "metadata": {},
   "outputs": [],
   "source": [
    "def get_piece_orientations(piece):\n",
    "    ret = []\n",
    "    for i in range(4):\n",
    "        ret.append(rot90(piece,i))\n",
    "    return ret\n"
   ]
  },
  {
   "cell_type": "markdown",
   "metadata": {},
   "source": [
    "# Pieces"
   ]
  },
  {
   "cell_type": "code",
   "execution_count": 99,
   "metadata": {},
   "outputs": [],
   "source": [
    "o_piece = np.array([[1,1],[1,1]])\n",
    "i_piece = np.array([[1,1,1,1]])\n",
    "j_piece = np.array([[1,0,0],[1,1,1]])"
   ]
  },
  {
   "cell_type": "code",
   "execution_count": 100,
   "metadata": {},
   "outputs": [
    {
     "data": {
      "text/plain": [
       "[array([[1, 0, 0],\n",
       "        [1, 1, 1]]), array([[1., 1.],\n",
       "        [1., 0.],\n",
       "        [1., 0.]]), array([[1., 1., 1.],\n",
       "        [0., 0., 1.]]), array([[0., 1.],\n",
       "        [0., 1.],\n",
       "        [1., 1.]])]"
      ]
     },
     "execution_count": 100,
     "metadata": {},
     "output_type": "execute_result"
    }
   ],
   "source": [
    "get_piece_orientations(j_piece)"
   ]
  },
  {
   "cell_type": "code",
   "execution_count": null,
   "metadata": {},
   "outputs": [],
   "source": []
  },
  {
   "cell_type": "code",
   "execution_count": null,
   "metadata": {},
   "outputs": [],
   "source": []
  },
  {
   "cell_type": "code",
   "execution_count": null,
   "metadata": {},
   "outputs": [],
   "source": []
  },
  {
   "cell_type": "code",
   "execution_count": null,
   "metadata": {},
   "outputs": [],
   "source": []
  },
  {
   "cell_type": "code",
   "execution_count": null,
   "metadata": {},
   "outputs": [],
   "source": []
  },
  {
   "cell_type": "code",
   "execution_count": null,
   "metadata": {},
   "outputs": [],
   "source": []
  },
  {
   "cell_type": "code",
   "execution_count": null,
   "metadata": {},
   "outputs": [],
   "source": []
  },
  {
   "cell_type": "code",
   "execution_count": null,
   "metadata": {},
   "outputs": [],
   "source": []
  },
  {
   "cell_type": "code",
   "execution_count": null,
   "metadata": {},
   "outputs": [],
   "source": []
  },
  {
   "cell_type": "code",
   "execution_count": null,
   "metadata": {},
   "outputs": [],
   "source": []
  },
  {
   "cell_type": "code",
   "execution_count": null,
   "metadata": {},
   "outputs": [],
   "source": []
  }
 ],
 "metadata": {
  "kernelspec": {
   "display_name": "Python 3",
   "language": "python",
   "name": "python3"
  },
  "language_info": {
   "codemirror_mode": {
    "name": "ipython",
    "version": 3
   },
   "file_extension": ".py",
   "mimetype": "text/x-python",
   "name": "python",
   "nbconvert_exporter": "python",
   "pygments_lexer": "ipython3",
   "version": "3.7.3"
  }
 },
 "nbformat": 4,
 "nbformat_minor": 2
}
