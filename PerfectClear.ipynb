{
 "cells": [
  {
   "cell_type": "code",
   "execution_count": 13,
   "metadata": {},
   "outputs": [],
   "source": [
    "import numpy as np"
   ]
  },
  {
   "cell_type": "code",
   "execution_count": 14,
   "metadata": {},
   "outputs": [],
   "source": [
    "is_right_oriented = True"
   ]
  },
  {
   "cell_type": "code",
   "execution_count": null,
   "metadata": {},
   "outputs": [],
   "source": []
  },
  {
   "cell_type": "markdown",
   "metadata": {},
   "source": [
    "# Initial Board"
   ]
  },
  {
   "cell_type": "code",
   "execution_count": 40,
   "metadata": {},
   "outputs": [],
   "source": [
    "HEIGHT = 4\n",
    "WIDTH = 4"
   ]
  },
  {
   "cell_type": "code",
   "execution_count": 16,
   "metadata": {},
   "outputs": [],
   "source": [
    "board_ini = np.zeros((height,width))\n",
    "\n",
    "board_ini[1:,0] = 1\n",
    "board_ini[2,1] = 1\n",
    "\n",
    "if not is_right_oriented:\n",
    "    board_ini = np.flip(bload,1)\n"
   ]
  },
  {
   "cell_type": "code",
   "execution_count": 17,
   "metadata": {},
   "outputs": [],
   "source": [
    "def is_outside(board, piece, pos):\n",
    "    if pos[1] + piece.shape[1] > board.shape[1]\\\n",
    "        or pos[0] + piece.shape[0] > board.shape[0]: # bas\n",
    "        return True\n",
    "    return False\n",
    "\n",
    "def can_put_bloc_at_pos(board, bloc, lig, col):\n",
    "    if board[lig, col] == 1 and bloc == 1:\n",
    "        return False\n",
    "    return True\n",
    "\n",
    "def can_insert(board, piece, pos):\n",
    "    \n",
    "    # Si la piece est en dehord du plateau on passe\n",
    "    if is_outside(board, piece, pos):\n",
    "        return False\n",
    "    \n",
    "    for i, horizontal in enumerate(piece):\n",
    "        for j, bloc in enumerate(horizontal):\n",
    "            if not can_put_bloc_at_pos(board, bloc, pos[0] + i, pos[1] + j):\n",
    "                \n",
    "                return False\n",
    "    return True\n",
    "\n",
    "def inserer_piece(board, piece, pos):\n",
    "\n",
    "    if not can_insert(board, piece, pos):\n",
    "        print(\"Insertion interdite\")\n",
    "        return -1\n",
    "\n",
    "    ret = board.copy()\n",
    "    for i, horizontal in enumerate(piece):\n",
    "        for j, bloc in enumerate(horizontal):\n",
    "            if bloc == 1:\n",
    "                ret[pos[0] + i, pos[1] + j] = 1\n",
    "    return np.array(ret)"
   ]
  },
  {
   "cell_type": "code",
   "execution_count": null,
   "metadata": {},
   "outputs": [],
   "source": []
  },
  {
   "cell_type": "code",
   "execution_count": 18,
   "metadata": {},
   "outputs": [],
   "source": [
    "def rot90(piece, nb_rot):\n",
    "    if nb_rot == 0:\n",
    "        return piece\n",
    "    \n",
    "    ret = np.zeros((piece.shape[1], piece.shape[0]))\n",
    "    \n",
    "    for i in range(piece.shape[1]):\n",
    "        ret[i,:] = np.flip(piece[:,i])\n",
    "    \n",
    "    if nb_rot == 1:\n",
    "        return ret\n",
    "    else:\n",
    "        return rot90(ret, nb_rot-1)\n",
    "    return ret\n",
    "\n",
    "def get_piece_orientations(piece):\n",
    "    ret = []\n",
    "    for i in range(4):\n",
    "        ret.append(rot90(piece,i))\n",
    "    return ret\n"
   ]
  },
  {
   "cell_type": "markdown",
   "metadata": {},
   "source": [
    "# Pieces"
   ]
  },
  {
   "cell_type": "code",
   "execution_count": 19,
   "metadata": {},
   "outputs": [],
   "source": [
    "o_piece = np.array([[1,1],[1,1]])\n",
    "i_piece = np.array([[1,1,1,1]])\n",
    "j_piece = np.array([[1,0,0],[1,1,1]])\n",
    "l_piece = np.array([[0,0,1],[1,1,1]])\n",
    "t_piece = np.array([[1,1,1],[0,1,0]])\n",
    "s_piece = np.array([[0,1,1],[1,1,0]])\n",
    "z_piece = np.array([[1,1,0],[0,1,1]])"
   ]
  },
  {
   "cell_type": "markdown",
   "metadata": {},
   "source": [
    "# Get List Coup"
   ]
  },
  {
   "cell_type": "code",
   "execution_count": 20,
   "metadata": {},
   "outputs": [],
   "source": [
    "# Pour chaque orientations\n",
    "    # pour chaque possition\n",
    "        # Si elle est possible\n",
    "            # L'ajouter à la liste"
   ]
  },
  {
   "cell_type": "code",
   "execution_count": 61,
   "metadata": {},
   "outputs": [],
   "source": [
    "#orientations = get_piece_orientations(piece)\n",
    "#for oriente in orientations:\n",
    "def get_piece_coups(board, piece):\n",
    "    coups = []\n",
    "    for x in range(HEIGHT):\n",
    "        for y in range(WIDTH):\n",
    "            if can_insert(board, piece, (x,y)):\n",
    "                    coups.append([x,y])\n",
    "    return coups"
   ]
  },
  {
   "cell_type": "code",
   "execution_count": 80,
   "metadata": {
    "scrolled": true
   },
   "outputs": [],
   "source": [
    "def clear_complete_lines(board):\n",
    "\n",
    "    new_board = board.copy()\n",
    "\n",
    "    for i,line in enumerate(board):\n",
    "        if sum(line) == len(line):\n",
    "            new_board = np.delete(new_board, i, 0)\n",
    "            new_board = np.insert(new_board, 0, np.zeros(board.shape[1]), axis=0)\n",
    "\n",
    "    return new_board\n",
    "\n",
    "\n",
    "\n",
    "def jouer_piece(board, piece, pos, prev_coups):\n",
    "    boards = []\n",
    "\n",
    "    new_board = inserer_piece(board, piece, pos)\n",
    "    new_board = clear_complete_lines(new_board)\n",
    "    \n",
    "    new_coup = prev_coups.copy()\n",
    "    new_coup.append(pos)\n",
    "    \n",
    "    return (new_board, new_coup)"
   ]
  },
  {
   "cell_type": "code",
   "execution_count": 89,
   "metadata": {},
   "outputs": [],
   "source": [
    "\n",
    "# Joue les pieces sur le board_ini et retourne les boards possible résultants\n",
    "def jouer_pieces(board_ini, pieces):\n",
    "    boards = [(board_ini, [])]\n",
    "    while not len(pieces) == 0:\n",
    "        piece = pieces.pop(0)\n",
    "        new_boards = []\n",
    "#         Pour chaques board à tester pour cette piece\n",
    "        for board, prev_coups in boards:\n",
    "            \n",
    "            for coup in get_piece_coups(board, piece):\n",
    "                \n",
    "                board_pos = jouer_piece(board,piece, coup, prev_coups)\n",
    "                \n",
    "                new_boards.append(board_pos)\n",
    "        \n",
    "        boards = new_boards\n",
    "    return boards\n",
    "#     return np.unique(np.array(boards), axis=0)"
   ]
  },
  {
   "cell_type": "code",
   "execution_count": null,
   "metadata": {},
   "outputs": [],
   "source": [
    "# Dis si un perfect clear est possible sur le board_ini avec les pieces\n",
    "def perfect_is_possible(board_ini, pieces):\n",
    "    boards = jouer_pieces(board_ini, pieces)\n",
    "    board_vide = np.array([[0 for _ in range(WIDTH)] for _ in range(HEIGHT)])\n",
    "    for board in boards:\n",
    "        if np.array_equal(board_ini, board_vide):\n",
    "            "
   ]
  },
  {
   "cell_type": "code",
   "execution_count": 81,
   "metadata": {},
   "outputs": [
    {
     "data": {
      "text/plain": [
       "(array([[0., 0., 0., 0.],\n",
       "        [1., 0., 0., 0.],\n",
       "        [1., 1., 0., 0.],\n",
       "        [1., 0., 0., 0.]]), [(0, 0)])"
      ]
     },
     "execution_count": 81,
     "metadata": {},
     "output_type": "execute_result"
    }
   ],
   "source": [
    "jouer_piece(board_ini,  i_piece, (0,0), [])"
   ]
  },
  {
   "cell_type": "code",
   "execution_count": 90,
   "metadata": {},
   "outputs": [
    {
     "data": {
      "text/plain": [
       "[(array([[0., 0., 0., 0.],\n",
       "         [0., 1., 1., 1.],\n",
       "         [1., 0., 0., 1.],\n",
       "         [1., 1., 1., 0.]]), [[2, 1], [0, 0], [0, 2]]),\n",
       " (array([[0., 0., 0., 0.],\n",
       "         [0., 0., 1., 1.],\n",
       "         [1., 1., 0., 1.],\n",
       "         [1., 1., 1., 0.]]), [[2, 1], [1, 0], [0, 2]]),\n",
       " (array([[0., 0., 0., 0.],\n",
       "         [0., 0., 0., 0.],\n",
       "         [0., 0., 0., 0.],\n",
       "         [0., 0., 0., 0.]]), [[2, 1], [1, 0], [1, 2]])]"
      ]
     },
     "execution_count": 90,
     "metadata": {},
     "output_type": "execute_result"
    }
   ],
   "source": [
    "pieces = [s_piece, z_piece, rot90(l_piece, 3)]\n",
    "jouer_pieces(board_ini, pieces)"
   ]
  },
  {
   "cell_type": "code",
   "execution_count": 49,
   "metadata": {},
   "outputs": [
    {
     "data": {
      "text/plain": [
       "array([[[0., 0., 0., 0.],\n",
       "        [0., 0., 0., 0.],\n",
       "        [1., 0., 0., 0.],\n",
       "        [1., 1., 1., 0.]],\n",
       "\n",
       "       [[0., 0., 1., 1.],\n",
       "        [1., 1., 1., 0.],\n",
       "        [1., 1., 0., 0.],\n",
       "        [1., 0., 0., 0.]]])"
      ]
     },
     "execution_count": 49,
     "metadata": {},
     "output_type": "execute_result"
    }
   ],
   "source": [
    "jouer_pieces(board_ini, [s_piece])"
   ]
  },
  {
   "cell_type": "code",
   "execution_count": null,
   "metadata": {},
   "outputs": [],
   "source": [
    "inserer_piece(board_ini, ro)"
   ]
  },
  {
   "cell_type": "code",
   "execution_count": null,
   "metadata": {},
   "outputs": [],
   "source": []
  },
  {
   "cell_type": "code",
   "execution_count": null,
   "metadata": {},
   "outputs": [],
   "source": [
    "# Récuperer la liste des pieces a venir\n",
    "# Générer la liste des ordres de pieces possibles\n",
    "# Pour chaque ordre possible\n",
    "    # Récupérer les boards possible"
   ]
  },
  {
   "cell_type": "code",
   "execution_count": null,
   "metadata": {},
   "outputs": [],
   "source": []
  },
  {
   "cell_type": "code",
   "execution_count": null,
   "metadata": {},
   "outputs": [],
   "source": [
    "pieces = [s_piece, z_piece, rot90(l_piece, 3)]\n",
    "\n",
    "for piece in pieces:\n",
    "    "
   ]
  },
  {
   "cell_type": "code",
   "execution_count": null,
   "metadata": {},
   "outputs": [],
   "source": []
  },
  {
   "cell_type": "code",
   "execution_count": null,
   "metadata": {},
   "outputs": [],
   "source": []
  },
  {
   "cell_type": "code",
   "execution_count": null,
   "metadata": {},
   "outputs": [],
   "source": []
  },
  {
   "cell_type": "code",
   "execution_count": null,
   "metadata": {},
   "outputs": [],
   "source": [
    "def"
   ]
  },
  {
   "cell_type": "code",
   "execution_count": null,
   "metadata": {},
   "outputs": [],
   "source": []
  },
  {
   "cell_type": "code",
   "execution_count": null,
   "metadata": {},
   "outputs": [],
   "source": []
  },
  {
   "cell_type": "code",
   "execution_count": null,
   "metadata": {},
   "outputs": [],
   "source": []
  },
  {
   "cell_type": "code",
   "execution_count": null,
   "metadata": {},
   "outputs": [],
   "source": []
  },
  {
   "cell_type": "code",
   "execution_count": null,
   "metadata": {},
   "outputs": [],
   "source": []
  },
  {
   "cell_type": "code",
   "execution_count": null,
   "metadata": {},
   "outputs": [],
   "source": []
  }
 ],
 "metadata": {
  "kernelspec": {
   "display_name": "Python 3",
   "language": "python",
   "name": "python3"
  },
  "language_info": {
   "codemirror_mode": {
    "name": "ipython",
    "version": 3
   },
   "file_extension": ".py",
   "mimetype": "text/x-python",
   "name": "python",
   "nbconvert_exporter": "python",
   "pygments_lexer": "ipython3",
   "version": "3.7.3"
  }
 },
 "nbformat": 4,
 "nbformat_minor": 2
}
