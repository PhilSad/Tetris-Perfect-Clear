{
 "cells": [
  {
   "cell_type": "code",
   "execution_count": 1,
   "metadata": {},
   "outputs": [],
   "source": [
    "import numpy as np"
   ]
  },
  {
   "cell_type": "code",
   "execution_count": 2,
   "metadata": {},
   "outputs": [],
   "source": [
    "is_right_oriented = True"
   ]
  },
  {
   "cell_type": "code",
   "execution_count": null,
   "metadata": {},
   "outputs": [],
   "source": []
  },
  {
   "cell_type": "markdown",
   "metadata": {},
   "source": [
    "# Initial Board"
   ]
  },
  {
   "cell_type": "code",
   "execution_count": 3,
   "metadata": {},
   "outputs": [],
   "source": [
    "height = 4\n",
    "width = 4"
   ]
  },
  {
   "cell_type": "code",
   "execution_count": 157,
   "metadata": {},
   "outputs": [],
   "source": [
    "board_ini = np.zeros((height,width))\n",
    "\n",
    "board_ini[1:,0] = 1\n",
    "board_ini[2,1] = 1\n",
    "\n",
    "if not is_right_oriented:\n",
    "    board_ini = np.flip(bload,1)\n"
   ]
  },
  {
   "cell_type": "code",
   "execution_count": 393,
   "metadata": {},
   "outputs": [],
   "source": [
    "def is_outside(board, piece, pos):\n",
    "    if pos[1] + piece.shape[1] > board.shape[1]\\\n",
    "        or pos[0] + piece.shape[0] > board.shape[0]: # bas\n",
    "        return True\n",
    "    return False\n",
    "\n",
    "def can_put_bloc_at_pos(board, bloc, lig, col):\n",
    "    if board[lig, col] == 1 and bloc == 1:\n",
    "        return False\n",
    "    return True\n",
    "\n",
    "def can_insert(board, piece, pos):\n",
    "    \n",
    "    # Si la piece est en dehord du plateau on passe\n",
    "    if is_outside(board, piece, pos):\n",
    "        return False\n",
    "    \n",
    "    for i, horizontal in enumerate(piece):\n",
    "        for j, bloc in enumerate(horizontal):\n",
    "            if not can_put_bloc_at_pos(board, bloc, pos[0] + i, pos[1] + j):\n",
    "                \n",
    "                return False\n",
    "    return True\n",
    "\n",
    "def inserer_piece(board, piece, pos):\n",
    "\n",
    "    if not can_insert(board, piece, pos):\n",
    "        print(\"Insertion interdite\")\n",
    "        return -1\n",
    "\n",
    "    ret = board.copy()\n",
    "    for i, horizontal in enumerate(piece):\n",
    "        for j, bloc in enumerate(horizontal):\n",
    "            if bloc == 1:\n",
    "                ret[pos[0] + i, pos[1] + j] = 1\n",
    "    return np.array(ret)"
   ]
  },
  {
   "cell_type": "code",
   "execution_count": 375,
   "metadata": {},
   "outputs": [
    {
     "data": {
      "text/plain": [
       "False"
      ]
     },
     "execution_count": 375,
     "metadata": {},
     "output_type": "execute_result"
    }
   ],
   "source": [
    "can_put_bloc_at_pos(board, 1, 3,0)"
   ]
  },
  {
   "cell_type": "code",
   "execution_count": 380,
   "metadata": {
    "scrolled": false
   },
   "outputs": [
    {
     "name": "stdout",
     "output_type": "stream",
     "text": [
      "1 2\n",
      "2 2\n",
      "3 2\n",
      "1 3\n",
      "2 3\n",
      "3 3\n"
     ]
    },
    {
     "data": {
      "text/plain": [
       "array([[0., 0., 0., 0.],\n",
       "       [1., 0., 0., 0.],\n",
       "       [1., 1., 2., 0.],\n",
       "       [1., 2., 2., 2.]])"
      ]
     },
     "execution_count": 380,
     "metadata": {},
     "output_type": "execute_result"
    }
   ],
   "source": [
    "inserer_piece(board_ini, rot90(t_piece,2), (2,1))"
   ]
  },
  {
   "cell_type": "code",
   "execution_count": 314,
   "metadata": {},
   "outputs": [
    {
     "data": {
      "text/plain": [
       "array([[0., 0., 0., 0.],\n",
       "       [1., 0., 0., 0.],\n",
       "       [1., 1., 0., 0.],\n",
       "       [1., 0., 0., 0.]])"
      ]
     },
     "execution_count": 314,
     "metadata": {},
     "output_type": "execute_result"
    }
   ],
   "source": [
    "board_ini"
   ]
  },
  {
   "cell_type": "code",
   "execution_count": null,
   "metadata": {},
   "outputs": [],
   "source": []
  },
  {
   "cell_type": "code",
   "execution_count": null,
   "metadata": {},
   "outputs": [],
   "source": []
  },
  {
   "cell_type": "code",
   "execution_count": null,
   "metadata": {},
   "outputs": [],
   "source": []
  },
  {
   "cell_type": "code",
   "execution_count": 88,
   "metadata": {},
   "outputs": [],
   "source": [
    "def rot90(piece, nb_rot):\n",
    "    if nb_rot == 0:\n",
    "        return piece\n",
    "    \n",
    "    ret = np.zeros((piece.shape[1], piece.shape[0]))\n",
    "    \n",
    "    for i in range(piece.shape[1]):\n",
    "        ret[i,:] = np.flip(piece[:,i])\n",
    "    \n",
    "    if nb_rot == 1:\n",
    "        return ret\n",
    "    else:\n",
    "        return rot90(ret, nb_rot-1)\n",
    "    return ret"
   ]
  },
  {
   "cell_type": "code",
   "execution_count": 98,
   "metadata": {},
   "outputs": [],
   "source": [
    "def get_piece_orientations(piece):\n",
    "    ret = []\n",
    "    for i in range(4):\n",
    "        ret.append(rot90(piece,i))\n",
    "    return ret\n"
   ]
  },
  {
   "cell_type": "markdown",
   "metadata": {},
   "source": [
    "# Pieces"
   ]
  },
  {
   "cell_type": "code",
   "execution_count": 294,
   "metadata": {},
   "outputs": [],
   "source": [
    "o_piece = np.array([[1,1],[1,1]])\n",
    "i_piece = np.array([[1,1,1,1]])\n",
    "j_piece = np.array([[1,0,0],[1,1,1]])\n",
    "l_piece = np.array([0,0,1],[1,1,1])\n",
    "t_piece = np.array([[1,1,1],[0,1,0]])\n",
    "s_piece = np.array([[0,1,1],[1,1,0]])\n",
    "z_piece = np.array([[1,1,0],[0,1,1]])\n",
    "s_piece = "
   ]
  },
  {
   "cell_type": "markdown",
   "metadata": {},
   "source": [
    "# Get List Coup"
   ]
  },
  {
   "cell_type": "code",
   "execution_count": 124,
   "metadata": {},
   "outputs": [],
   "source": [
    "# Pour chaque orientations\n",
    "    # pour chaque possition\n",
    "        # Si elle est possible\n",
    "            # L'ajouter à la liste"
   ]
  },
  {
   "cell_type": "code",
   "execution_count": 133,
   "metadata": {},
   "outputs": [],
   "source": [
    "#orientations = get_piece_orientations(piece)\n",
    "#for oriente in orientations:\n",
    "def get_piece_coups(board, piece):\n",
    "    coups = []\n",
    "    for x in range(height):\n",
    "        for y in range(width):\n",
    "            if can_insert(board, piece, (x,y)):\n",
    "                    coups.append((x,y))\n",
    "    return coups"
   ]
  },
  {
   "cell_type": "code",
   "execution_count": 139,
   "metadata": {
    "scrolled": true
   },
   "outputs": [],
   "source": [
    "# Récupérer les boards pour chanque orientations d'une piece\n",
    "def jouer_piece(board, piece):\n",
    "    boards = []\n",
    "    orientations = get_piece_orientations(piece)\n",
    "    for oriente in orientations:\n",
    "        coups = get_piece_coups(board, oriente)\n",
    "\n",
    "        for coup in coups:\n",
    "            boards.append(inserer_piece(board, oriente, coup))\n",
    "    \n",
    "    return boards"
   ]
  },
  {
   "cell_type": "code",
   "execution_count": 389,
   "metadata": {},
   "outputs": [],
   "source": [
    "# Joue les pieces sur le board_ini et retourne les boards possible résultants\n",
    "def jouer_pieces(board_ini, pieces):\n",
    "    boards = [board_ini]\n",
    "    while not len(pieces) == 0:\n",
    "        piece = pieces.pop(0)\n",
    "        new_boards = []\n",
    "        for board in boards:\n",
    "            new_boards.extend(jouer_piece(board,piece))\n",
    "        boards = new_boards\n",
    "        \n",
    "    return np.unique(np.array(boards), axis=0)"
   ]
  },
  {
   "cell_type": "code",
   "execution_count": 397,
   "metadata": {},
   "outputs": [],
   "source": [
    "pieces = [t_piece, j_piece, i_piece]\n",
    "boards = jouer_pieces(board_ini, pieces)"
   ]
  },
  {
   "cell_type": "code",
   "execution_count": 398,
   "metadata": {
    "scrolled": true
   },
   "outputs": [
    {
     "data": {
      "text/plain": [
       "array([[[1., 1., 1., 1.],\n",
       "        [1., 1., 1., 1.],\n",
       "        [1., 1., 1., 1.],\n",
       "        [1., 1., 1., 1.]]])"
      ]
     },
     "execution_count": 398,
     "metadata": {},
     "output_type": "execute_result"
    }
   ],
   "source": [
    "boards"
   ]
  },
  {
   "cell_type": "code",
   "execution_count": 396,
   "metadata": {
    "scrolled": true
   },
   "outputs": [
    {
     "data": {
      "text/plain": [
       "12"
      ]
     },
     "execution_count": 396,
     "metadata": {},
     "output_type": "execute_result"
    }
   ],
   "source": [
    "len(boards)"
   ]
  },
  {
   "cell_type": "code",
   "execution_count": 306,
   "metadata": {},
   "outputs": [
    {
     "data": {
      "text/plain": [
       "array([[0., 1., 0.],\n",
       "       [1., 1., 1.]])"
      ]
     },
     "execution_count": 306,
     "metadata": {},
     "output_type": "execute_result"
    }
   ],
   "source": [
    "rot90(t_piece,2)"
   ]
  },
  {
   "cell_type": "code",
   "execution_count": null,
   "metadata": {},
   "outputs": [],
   "source": []
  }
 ],
 "metadata": {
  "kernelspec": {
   "display_name": "Python 3",
   "language": "python",
   "name": "python3"
  },
  "language_info": {
   "codemirror_mode": {
    "name": "ipython",
    "version": 3
   },
   "file_extension": ".py",
   "mimetype": "text/x-python",
   "name": "python",
   "nbconvert_exporter": "python",
   "pygments_lexer": "ipython3",
   "version": "3.7.3"
  }
 },
 "nbformat": 4,
 "nbformat_minor": 2
}
